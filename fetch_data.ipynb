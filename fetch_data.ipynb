{
 "cells": [
  {
   "cell_type": "code",
   "execution_count": 12,
   "id": "d51a69de-f86c-4a3b-8cb3-324869c89ecf",
   "metadata": {},
   "outputs": [],
   "source": [
    "import bs4 as bs\n",
    "import datetime as dt\n",
    "import os\n",
    "import pickle\n",
    "import requests\n",
    "import yfinance as yf\n",
    "import pandas as pd\n",
    "import numpy as np\n",
    "import matplotlib.pyplot as plt\n",
    "import lxml\n",
    "import numpy.random as rn"
   ]
  },
  {
   "cell_type": "code",
   "execution_count": 3,
   "id": "c7307936-b0b1-4770-b3ee-3aec8ff59f2b",
   "metadata": {},
   "outputs": [],
   "source": [
    "russell = pd.read_csv(\"IWV_holdings.csv\")[:-100]"
   ]
  },
  {
   "cell_type": "code",
   "execution_count": 18,
   "id": "7cc200fb-6fb4-4ee4-b451-27914117f3ba",
   "metadata": {},
   "outputs": [],
   "source": [
    "url = \"https://en.wikipedia.org/wiki/List_of_S%26P_500_companies\"\n",
    "response = requests.get(url)\n",
    "soup = bs.BeautifulSoup(response.text, 'html.parser')\n",
    "table = soup.find('table', {'id': 'constituents'})\n",
    "df = pd.read_html(str(table))[0]\n",
    "sp500tickers = df['Symbol'].tolist()"
   ]
  },
  {
   "cell_type": "code",
   "execution_count": 4,
   "id": "c1b06eff-b978-445f-a591-fb230c5f7ae6",
   "metadata": {},
   "outputs": [
    {
     "name": "stderr",
     "output_type": "stream",
     "text": [
      "[*********************100%%**********************]  2579 of 2579 completed\n",
      "\n",
      "27 Failed downloads:\n",
      "['CWENA', 'LENB', 'MSFUT', 'XTSLA', 'BFB', 'LGFA', 'BRKB', 'LGFB', 'GEFB', 'METCV', 'HEIA', 'UHALB', 'BFA', 'MOGA']: YFTzMissingError('$%ticker%: possibly delisted; No timezone found')\n",
      "['SW', 'GEV', 'LOAR', 'SOLV', 'AHR', 'GRAL', 'CGON', 'ALAB', 'IBTA', 'CORZ', 'BTSG', 'AS', 'PACS']: YFChartError(\"%ticker%: Data doesn't exist for startDate = 1262322000, endDate = 1704085200\")\n"
     ]
    }
   ],
   "source": [
    "data = yf.download(list(russell['Ticker']), start='2010-01-01', end='2024-01-01')\n",
    "data = data['Adj Close']"
   ]
  },
  {
   "cell_type": "code",
   "execution_count": 13,
   "id": "05c9ec45-5641-43e3-892e-e3a7f90d42b4",
   "metadata": {},
   "outputs": [],
   "source": [
    "data_filtered = data[-1250:].dropna(axis = 1)"
   ]
  },
  {
   "cell_type": "code",
   "execution_count": 12,
   "id": "47e380af-7fa5-4539-ae04-fa92fd3f425a",
   "metadata": {},
   "outputs": [],
   "source": [
    "rn.seed(123)\n",
    "data_small = data_filtered.iloc[:,rn.choice(1250, 100, replace = False)]\n",
    "\n",
    "log_returns_data = np.log(data_small).diff()\n",
    "log_returns_data.to_csv(\"returns_data100.csv\")"
   ]
  },
  {
   "cell_type": "code",
   "execution_count": 13,
   "id": "1d1634a7-4f71-48f2-a412-95e28e9064e9",
   "metadata": {},
   "outputs": [],
   "source": [
    "rn.seed(123)\n",
    "data_small = data_filtered.iloc[:,rn.choice(1250, 500, replace = False)]\n",
    "\n",
    "log_returns_data = np.log(data_small).diff()\n",
    "log_returns_data.to_csv(\"returns_data500.csv\")"
   ]
  },
  {
   "cell_type": "code",
   "execution_count": 14,
   "id": "e9efea76-9ed7-4cfe-bcc4-cb25816854b4",
   "metadata": {},
   "outputs": [],
   "source": [
    "rn.seed(123)\n",
    "data_small = data_filtered.iloc[:,rn.choice(1250, 1000, replace = False)]\n",
    "\n",
    "log_returns_data = np.log(data_small).diff()\n",
    "log_returns_data.to_csv(\"returns_data1000.csv\")"
   ]
  },
  {
   "cell_type": "markdown",
   "id": "cdcf3047-982d-44f8-be1e-0c1809428a44",
   "metadata": {},
   "source": [
    "# Long History"
   ]
  },
  {
   "cell_type": "code",
   "execution_count": 17,
   "id": "3612c900-4208-442b-b027-2b85c076ac15",
   "metadata": {},
   "outputs": [
    {
     "name": "stderr",
     "output_type": "stream",
     "text": [
      "[**********************85%%***************       ]  2201 of 2579 completed"
     ]
    },
    {
     "name": "stdout",
     "output_type": "stream",
     "text": [
      "$ZD: possibly delisted; No price data found  (1d 2005-01-01 -> 2024-01-01)\n"
     ]
    },
    {
     "name": "stderr",
     "output_type": "stream",
     "text": [
      "[*********************100%%**********************]  2579 of 2579 completed\n",
      "\n",
      "30 Failed downloads:\n",
      "['CWENA', 'LENB', 'MSFUT', 'XTSLA', 'BFB', 'LGFA', 'BRKB', 'LGFB', 'GEFB', 'METCV', 'HEIA', 'UHALB', 'BFA', 'MOGA']: YFTzMissingError('$%ticker%: possibly delisted; No timezone found')\n",
      "['SW', 'GEV', 'LOAR', 'SOLV', 'AHR', 'GRAL', 'CGON', 'ALAB', 'IBTA', 'CORZ', 'BTSG', 'AS', 'PACS']: YFChartError(\"%ticker%: Data doesn't exist for startDate = 1104555600, endDate = 1704085200\")\n",
      "['ZD']: YFPricesMissingError('$%ticker%: possibly delisted; No price data found  (1d 2005-01-01 -> 2024-01-01)')\n",
      "['RYN', 'RF']: ConnectionError(ReadTimeoutError(\"HTTPSConnectionPool(host='query2.finance.yahoo.com', port=443): Read timed out.\"))\n"
     ]
    }
   ],
   "source": [
    "data = yf.download(list(russell['Ticker']), start='2005-01-01', end='2024-01-01')\n",
    "data = data['Adj Close']"
   ]
  },
  {
   "cell_type": "code",
   "execution_count": 19,
   "id": "efe9e1fa-b694-4ee8-96e6-67a5025d51e8",
   "metadata": {},
   "outputs": [],
   "source": [
    "data_filtered = data.dropna(axis = 1)"
   ]
  },
  {
   "cell_type": "code",
   "execution_count": 45,
   "id": "ada7829f-ad2b-48bd-a991-39a7c79da326",
   "metadata": {},
   "outputs": [],
   "source": [
    "rn.seed(201)\n",
    "data_history = data_filtered.iloc[:,rn.choice(1290, 750, replace = False)]\n",
    "\n",
    "log_returns_data = np.log(data_history).diff()\n",
    "log_returns_data.to_csv(\"returns_data_long_750.csv\")\n",
    "data_history.to_csv(\"levels_data_long_750.csv\")"
   ]
  },
  {
   "cell_type": "code",
   "execution_count": 25,
   "id": "1a86c548-d001-482b-81a5-c0c557dd4a34",
   "metadata": {},
   "outputs": [
    {
     "name": "stderr",
     "output_type": "stream",
     "text": [
      "[**********************81%%*************         ]  408 of 503 completed"
     ]
    },
    {
     "name": "stdout",
     "output_type": "stream",
     "text": [
      "$BF.B: possibly delisted; No price data found  (1d 2015-01-01 -> 2024-01-01)\n"
     ]
    },
    {
     "name": "stderr",
     "output_type": "stream",
     "text": [
      "[*********************100%%**********************]  503 of 503 completed\n",
      "\n",
      "5 Failed downloads:\n",
      "['SOLV', 'SW', 'GEV']: YFChartError(\"%ticker%: Data doesn't exist for startDate = 1420088400, endDate = 1704085200\")\n",
      "['BF.B']: YFPricesMissingError('$%ticker%: possibly delisted; No price data found  (1d 2015-01-01 -> 2024-01-01)')\n",
      "['BRK.B']: YFTzMissingError('$%ticker%: possibly delisted; No timezone found')\n"
     ]
    }
   ],
   "source": [
    "data = yf.download((sp500tickers), start='2015-01-01', end='2024-01-01')\n",
    "data = data['Adj Close']\n",
    "data_filtered = data.dropna(axis = 1)\n",
    "\n",
    "rn.seed(201)\n",
    "data_history = data_filtered.iloc[:,rn.choice(471 , 100, replace = False)]\n",
    "\n",
    "log_returns_data = np.log(data_history).diff()[1:]\n",
    "log_returns_data.to_csv(\"returns_data_long_100.csv\")\n",
    "data_history.to_csv(\"levels_data_long_100.csv\")"
   ]
  },
  {
   "cell_type": "code",
   "execution_count": null,
   "id": "ec1daf2a-b5f5-400d-8088-30dc3facc038",
   "metadata": {},
   "outputs": [],
   "source": []
  }
 ],
 "metadata": {
  "kernelspec": {
   "display_name": "Python 3 (ipykernel)",
   "language": "python",
   "name": "python3"
  },
  "language_info": {
   "codemirror_mode": {
    "name": "ipython",
    "version": 3
   },
   "file_extension": ".py",
   "mimetype": "text/x-python",
   "name": "python",
   "nbconvert_exporter": "python",
   "pygments_lexer": "ipython3",
   "version": "3.10.10"
  }
 },
 "nbformat": 4,
 "nbformat_minor": 5
}
