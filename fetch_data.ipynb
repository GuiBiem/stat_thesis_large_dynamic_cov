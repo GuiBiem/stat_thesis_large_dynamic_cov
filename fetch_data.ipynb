{
 "cells": [
  {
   "cell_type": "code",
   "execution_count": 63,
   "id": "d51a69de-f86c-4a3b-8cb3-324869c89ecf",
   "metadata": {},
   "outputs": [],
   "source": [
    "import bs4 as bs\n",
    "import datetime as dt\n",
    "import os\n",
    "import pickle\n",
    "import requests\n",
    "import yfinance as yf\n",
    "import pandas as pd\n",
    "import numpy as np\n",
    "import matplotlib.pyplot as plt"
   ]
  },
  {
   "cell_type": "code",
   "execution_count": 58,
   "id": "dc8a2d96-347e-4100-adf9-ed7356c93bc0",
   "metadata": {},
   "outputs": [],
   "source": [
    "resp = requests.get('http://en.wikipedia.org/wiki/List_of_S%26P_500_companies')\n",
    "soup = bs.BeautifulSoup(resp.text, 'lxml')\n",
    "table = soup.find('table', {'class': 'wikitable sortable'})\n",
    "ticker_list = [i.text.replace('.','-') for i in table.find_all(\"a\", {'class' : 'external text'}) if i.text not in ['SOLV', 'SW', 'GEV']]"
   ]
  },
  {
   "cell_type": "code",
   "execution_count": 59,
   "id": "c1b06eff-b978-445f-a591-fb230c5f7ae6",
   "metadata": {},
   "outputs": [
    {
     "name": "stderr",
     "output_type": "stream",
     "text": [
      "[*********************100%%**********************]  500 of 500 completed\n"
     ]
    }
   ],
   "source": [
    "data = yf.download(ticker_list, start='2000-01-01', end='2024-01-01')\n",
    "data = data['Adj Close']"
   ]
  },
  {
   "cell_type": "code",
   "execution_count": 68,
   "id": "1f40795f-7b6f-407a-ad20-341807e62466",
   "metadata": {},
   "outputs": [],
   "source": [
    "def first_non_nan_index(column):\n",
    "    return column.first_valid_index()\n",
    "\n",
    "# Apply the function to each column\n",
    "first_non_nan_dates = data.apply(first_non_nan_index)\n",
    "\n",
    "data_recent = data[data.columns[(first_non_nan_dates <= '2004-01-01')]]\n",
    "data_recent = data_recent.dropna()\n",
    "log_returns_data = np.log(data_recent).diff()"
   ]
  },
  {
   "cell_type": "code",
   "execution_count": 88,
   "id": "5b16fabf-9dc1-44b9-86a8-ef488a3eaae1",
   "metadata": {},
   "outputs": [],
   "source": [
    "log_returns_data.to_csv(\"returns_data.csv\")"
   ]
  },
  {
   "cell_type": "code",
   "execution_count": null,
   "id": "68b6f50b-80d5-4ce7-9d66-bd9258f7194a",
   "metadata": {},
   "outputs": [],
   "source": []
  }
 ],
 "metadata": {
  "kernelspec": {
   "display_name": "Python 3 (ipykernel)",
   "language": "python",
   "name": "python3"
  },
  "language_info": {
   "codemirror_mode": {
    "name": "ipython",
    "version": 3
   },
   "file_extension": ".py",
   "mimetype": "text/x-python",
   "name": "python",
   "nbconvert_exporter": "python",
   "pygments_lexer": "ipython3",
   "version": "3.10.6"
  }
 },
 "nbformat": 4,
 "nbformat_minor": 5
}
