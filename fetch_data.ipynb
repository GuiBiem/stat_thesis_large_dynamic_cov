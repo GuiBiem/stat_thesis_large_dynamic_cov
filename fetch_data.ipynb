{
 "cells": [
  {
   "cell_type": "code",
   "execution_count": 163,
   "id": "d51a69de-f86c-4a3b-8cb3-324869c89ecf",
   "metadata": {},
   "outputs": [],
   "source": [
    "import bs4 as bs\n",
    "import datetime as dt\n",
    "import os\n",
    "import pickle\n",
    "import requests\n",
    "import yfinance as yf\n",
    "import pandas as pd\n",
    "import numpy as np\n",
    "import matplotlib.pyplot as plt\n",
    "import lxml\n",
    "import numpy.random as rn"
   ]
  },
  {
   "cell_type": "code",
   "execution_count": 165,
   "id": "c7307936-b0b1-4770-b3ee-3aec8ff59f2b",
   "metadata": {},
   "outputs": [],
   "source": [
    "russell = pd.read_csv(\"IWV_holdings.csv\")[:-100]"
   ]
  },
  {
   "cell_type": "code",
   "execution_count": 166,
   "id": "7cc200fb-6fb4-4ee4-b451-27914117f3ba",
   "metadata": {},
   "outputs": [
    {
     "name": "stderr",
     "output_type": "stream",
     "text": [
      "C:\\Users\\guibi\\AppData\\Local\\Temp\\ipykernel_11076\\1842220428.py:5: FutureWarning: Passing literal html to 'read_html' is deprecated and will be removed in a future version. To read from a literal string, wrap it in a 'StringIO' object.\n",
      "  df = pd.read_html(str(table))[0]\n"
     ]
    }
   ],
   "source": [
    "url = \"https://en.wikipedia.org/wiki/List_of_S%26P_500_companies\"\n",
    "response = requests.get(url)\n",
    "soup = bs.BeautifulSoup(response.text, 'html.parser')\n",
    "table = soup.find('table', {'id': 'constituents'})\n",
    "df = pd.read_html(str(table))[0]\n",
    "sp500tickers = df['Symbol'].tolist()"
   ]
  },
  {
   "cell_type": "code",
   "execution_count": 168,
   "id": "c1b06eff-b978-445f-a591-fb230c5f7ae6",
   "metadata": {},
   "outputs": [
    {
     "name": "stderr",
     "output_type": "stream",
     "text": [
      "[*********************100%***********************]  2579 of 2579 completed\n",
      "\n",
      "14 Failed downloads:\n",
      "['LENB', 'BRKB', 'UHALB', 'METCV', 'BFB', 'GEFB', 'MOGA', 'XTSLA', 'BFA', 'CWENA', 'HEIA', 'LGFA', 'LGFB', 'MSFUT']: YFTzMissingError('$%ticker%: possibly delisted; no timezone found')\n"
     ]
    }
   ],
   "source": [
    "data = yf.download(list(russell['Ticker']), start='2010-01-01', end='2024-09-01')\n",
    "data = data['Adj Close']"
   ]
  },
  {
   "cell_type": "code",
   "execution_count": 169,
   "id": "05c9ec45-5641-43e3-892e-e3a7f90d42b4",
   "metadata": {},
   "outputs": [],
   "source": [
    "data_filtered = data[-1250:].dropna(axis = 1)"
   ]
  },
  {
   "cell_type": "code",
   "execution_count": 170,
   "id": "47e380af-7fa5-4539-ae04-fa92fd3f425a",
   "metadata": {},
   "outputs": [],
   "source": [
    "rn.seed(123)\n",
    "data_small = data_filtered.iloc[:,rn.choice(1250, 100, replace = False)]\n",
    "\n",
    "log_returns_data = np.log(data_small).diff()\n",
    "log_returns_data.to_csv(\"returns_data100.csv\")"
   ]
  },
  {
   "cell_type": "code",
   "execution_count": 171,
   "id": "1d1634a7-4f71-48f2-a412-95e28e9064e9",
   "metadata": {},
   "outputs": [],
   "source": [
    "rn.seed(123)\n",
    "data_small = data_filtered.iloc[:,rn.choice(1250, 500, replace = False)]\n",
    "\n",
    "log_returns_data = np.log(data_small).diff()\n",
    "log_returns_data.to_csv(\"returns_data500.csv\")"
   ]
  },
  {
   "cell_type": "code",
   "execution_count": 173,
   "id": "e9efea76-9ed7-4cfe-bcc4-cb25816854b4",
   "metadata": {},
   "outputs": [],
   "source": [
    "rn.seed(123)\n",
    "data_small = data_filtered.iloc[:,rn.choice(1250, 1000, replace = False)]\n",
    "\n",
    "log_returns_data = np.log(data_small).diff()\n",
    "log_returns_data.to_csv(\"returns_data1000.csv\")"
   ]
  },
  {
   "cell_type": "code",
   "execution_count": 182,
   "id": "90a1d6e5-33f8-4a14-80b9-5084d90a23c8",
   "metadata": {},
   "outputs": [
    {
     "name": "stdout",
     "output_type": "stream",
     "text": [
      "(array([118], dtype=int64),)\n",
      "(array([797], dtype=int64),)\n",
      "(array([55], dtype=int64),)\n",
      "(array([960], dtype=int64),)\n"
     ]
    }
   ],
   "source": [
    "print(np.where(log_returns_data.columns == 'AAPL'))\n",
    "print(np.where(log_returns_data.columns == 'GOOG'))\n",
    "print(np.where(log_returns_data.columns == 'BAC'))\n",
    "print(np.where(log_returns_data.columns == 'GS'))"
   ]
  },
  {
   "cell_type": "markdown",
   "id": "cdcf3047-982d-44f8-be1e-0c1809428a44",
   "metadata": {},
   "source": [
    "# Long History"
   ]
  },
  {
   "cell_type": "code",
   "execution_count": 40,
   "id": "3612c900-4208-442b-b027-2b85c076ac15",
   "metadata": {},
   "outputs": [
    {
     "name": "stderr",
     "output_type": "stream",
     "text": [
      "[*********************100%***********************]  2579 of 2579 completed\n",
      "\n",
      "17 Failed downloads:\n",
      "['BRKB', 'UHALB', 'METCV', 'BFB', 'GEFB', 'MOGA', 'XTSLA', 'BFA', 'CWENA', 'LENB', 'HEIA', 'LGFA', 'LGFB', 'MSFUT']: YFTzMissingError('$%ticker%: possibly delisted; no timezone found')\n",
      "['KMI']: YFPricesMissingError('$%ticker%: possibly delisted; no price data found  (1d 2005-01-01 -> 2024-09-01)')\n",
      "['PARAA']: ReadTimeout(ReadTimeoutError(\"HTTPSConnectionPool(host='query2.finance.yahoo.com', port=443): Read timed out. (read timeout=10)\"))\n",
      "['WEN']: ConnectionError(ReadTimeoutError(\"HTTPSConnectionPool(host='query2.finance.yahoo.com', port=443): Read timed out.\"))\n"
     ]
    }
   ],
   "source": [
    "data = yf.download(list(russell['Ticker']), start='2005-01-01', end='2024-09-01')\n",
    "data = data['Adj Close']"
   ]
  },
  {
   "cell_type": "code",
   "execution_count": 42,
   "id": "efe9e1fa-b694-4ee8-96e6-67a5025d51e8",
   "metadata": {},
   "outputs": [],
   "source": [
    "data_filtered = data.dropna(axis = 1)"
   ]
  },
  {
   "cell_type": "code",
   "execution_count": 116,
   "id": "ada7829f-ad2b-48bd-a991-39a7c79da326",
   "metadata": {},
   "outputs": [],
   "source": [
    "rn.seed(105)\n",
    "data_history = data_filtered.iloc[:,rn.choice(1290, 750, replace = False)]\n",
    "\n",
    "log_returns_data = np.log(data_history).diff()\n",
    "log_returns_data.to_csv(\"returns_data_long_750.csv\")\n",
    "data_history.to_csv(\"levels_data_long_750.csv\")"
   ]
  },
  {
   "cell_type": "code",
   "execution_count": 126,
   "id": "af6639fd-fda7-4a34-9906-fd85553cdd96",
   "metadata": {},
   "outputs": [
    {
     "data": {
      "text/plain": [
       "(array([217], dtype=int64),)"
      ]
     },
     "execution_count": 126,
     "metadata": {},
     "output_type": "execute_result"
    }
   ],
   "source": [
    "np.where(data_history.columns == 'JPM')"
   ]
  },
  {
   "cell_type": "code",
   "execution_count": 193,
   "id": "1a86c548-d001-482b-81a5-c0c557dd4a34",
   "metadata": {},
   "outputs": [
    {
     "name": "stderr",
     "output_type": "stream",
     "text": [
      "[*********************100%***********************]  503 of 503 completed\n",
      "\n",
      "2 Failed downloads:\n",
      "['BF.B']: YFPricesMissingError('$%ticker%: possibly delisted; no price data found  (1d 2015-01-01 -> 2024-09-01)')\n",
      "['BRK.B']: YFTzMissingError('$%ticker%: possibly delisted; no timezone found')\n"
     ]
    }
   ],
   "source": [
    "data = yf.download((sp500tickers), start='2015-01-01', end='2024-09-01')\n",
    "data = data['Adj Close']\n",
    "data_filtered = data.dropna(axis = 1)\n",
    "\n",
    "rn.seed(201)\n",
    "data_history = data_filtered.iloc[:,rn.choice(471 , 100, replace = False)]\n",
    "\n",
    "log_returns_data = np.log(data_history).diff()[1:]\n",
    "log_returns_data.to_csv(\"returns_data_long_100.csv\")\n",
    "data_history.to_csv(\"levels_data_long_100.csv\")"
   ]
  },
  {
   "cell_type": "code",
   "execution_count": null,
   "id": "2ef19fed-deac-4424-b451-7f19fd27dba1",
   "metadata": {},
   "outputs": [],
   "source": []
  }
 ],
 "metadata": {
  "kernelspec": {
   "display_name": "Python 3 (ipykernel)",
   "language": "python",
   "name": "python3"
  },
  "language_info": {
   "codemirror_mode": {
    "name": "ipython",
    "version": 3
   },
   "file_extension": ".py",
   "mimetype": "text/x-python",
   "name": "python",
   "nbconvert_exporter": "python",
   "pygments_lexer": "ipython3",
   "version": "3.12.4"
  }
 },
 "nbformat": 4,
 "nbformat_minor": 5
}
