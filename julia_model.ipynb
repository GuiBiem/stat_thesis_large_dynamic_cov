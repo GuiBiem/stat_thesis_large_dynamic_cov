{
 "cells": [
  {
   "cell_type": "code",
   "execution_count": 1,
   "id": "302365ba-8f96-47b2-b15b-8fc06139443b",
   "metadata": {},
   "outputs": [],
   "source": [
    "using DataFrames\n",
    "using LinearAlgebra\n",
    "using Distributions\n",
    "using CSV\n",
    "using NPZ\n",
    "using Base.Threads\n",
    "using BenchmarkTools\n",
    "using ProgressMeter\n",
    "using Plots\n",
    "using Random\n",
    "using Pkg"
   ]
  },
  {
   "cell_type": "code",
   "execution_count": 2,
   "id": "ead92b78-e4bb-4054-96be-d46bbe825ab4",
   "metadata": {},
   "outputs": [
    {
     "name": "stderr",
     "output_type": "stream",
     "text": [
      "\u001b[32m\u001b[1m   Resolving\u001b[22m\u001b[39m package versions...\n",
      "\u001b[32m\u001b[1m  No Changes\u001b[22m\u001b[39m to `C:\\Users\\guibi\\.julia\\environments\\v1.10\\Project.toml`\n",
      "\u001b[32m\u001b[1m  No Changes\u001b[22m\u001b[39m to `C:\\Users\\guibi\\.julia\\environments\\v1.10\\Manifest.toml`\n",
      "\u001b[32m\u001b[1mPrecompiling\u001b[22m\u001b[39m MyARCHModels\n",
      "\u001b[32m  ✓ \u001b[39mMyARCHModels\n",
      "  1 dependency successfully precompiled in 24 seconds. 108 already precompiled.\n"
     ]
    }
   ],
   "source": [
    "Pkg.develop(path=\"c:\\\\Users\\\\guibi\\\\.julia\\\\dev\\\\MyARCHModels\")\n",
    "using MyARCHModels"
   ]
  },
  {
   "cell_type": "code",
   "execution_count": 3,
   "id": "2d04e3cf-f650-4241-b55a-02660f3e8bd9",
   "metadata": {},
   "outputs": [],
   "source": [
    "data = CSV.read(\"returns_data.csv\", DataFrame)[2:end,2:end]\n",
    "data_mat = coalesce.(Matrix(data), 0.0)\n",
    "\n",
    "data_small = data[:,1:50]\n",
    "data_small_mat = coalesce.(Matrix(data_small), 0.0);"
   ]
  },
  {
   "cell_type": "code",
   "execution_count": 4,
   "id": "e14c901a-d3d9-4e48-88f5-31b0005f4b04",
   "metadata": {},
   "outputs": [
    {
     "data": {
      "text/plain": [
       "loss (generic function with 1 method)"
      ]
     },
     "execution_count": 4,
     "metadata": {},
     "output_type": "execute_result"
    }
   ],
   "source": [
    "function markowitz_min_var_port(Σ::Matrix{Float64})\n",
    "    (n, _) = size(Σ)\n",
    "    SigmaI = inv(Σ)\n",
    "    e = ones(n)\n",
    "    den = e' * SigmaI * e\n",
    "    return (SigmaI * e) / den\n",
    "end\n",
    "\n",
    "function markowitz_min_var(Σ::Matrix{Float64})\n",
    "    w = markowitz_min_var_port(Σ)\n",
    "    return w' * Σ * w\n",
    "end\n",
    "\n",
    "function get_predictions(data::Matrix{Float64})\n",
    "    (n,d) = size(data)\n",
    "    pred_cov = [Matrix{Float64}(I(d)) for _ in 1:n]\n",
    "    @showprogress for time in 12:n\n",
    "            sliced_data = deepcopy(data[1:time,:])\n",
    "            spec = DCC{1,1}\n",
    "            res = fit(spec, sliced_data)\n",
    "            pred_cov[time] = predict(res)\n",
    "    end\n",
    "    return pred_cov\n",
    "end\n",
    "\n",
    "function loss(Sigma::Matrix{Float64}, Sigma_hat::Matrix{Float64})\n",
    "    (n, _) = size(Sigma)\n",
    "    Sigma_hat_I = inv(Sigma_hat)\n",
    "    a = tr(Sigma_hat_I * Sigma * Sigma_hat_I) / n\n",
    "    b = (tr(Sigma_hat_I) /n)^2\n",
    "    c = 1 / ( tr(inv(Sigma)) / n )\n",
    "    return a / b - c\n",
    "end"
   ]
  },
  {
   "cell_type": "code",
   "execution_count": 5,
   "id": "4ee09fd0-5528-406e-824e-56af32d26dfc",
   "metadata": {},
   "outputs": [
    {
     "data": {
      "text/plain": [
       "plot_first_5_series_in_subplots (generic function with 1 method)"
      ]
     },
     "execution_count": 5,
     "metadata": {},
     "output_type": "execute_result"
    }
   ],
   "source": [
    "function plot_first_5_series_in_subplots(data::AbstractMatrix)\n",
    "    # Ensure data has at least 5 columns\n",
    "    num_series = min(size(data, 2), 5)\n",
    "    \n",
    "    # Create a layout for 5 rows and 1 column (adjust if fewer than 5 series)\n",
    "    layout = grid(num_series, 1)  # Creates a layout with num_series rows and 1 column\n",
    "    \n",
    "    # Generate the plot\n",
    "    p = plot(layout=layout, size=(800, 1200))\n",
    "    \n",
    "    for i in 1:num_series\n",
    "        plot!(1:size(data, 1), data[:, i], label=\"Series $i\", lw=2, subplot=i)\n",
    "    end\n",
    "    \n",
    "    display(p)\n",
    "end"
   ]
  },
  {
   "cell_type": "code",
   "execution_count": 6,
   "id": "301b4117-e361-4875-b9fd-3f1414bfa67a",
   "metadata": {},
   "outputs": [],
   "source": [
    "mod = fit(DCC{1,1}, copy(coalesce.(Matrix(data), 0.0)))\n",
    "p = 500\n",
    "R = mod.spec.R;\n",
    "real_covs = covariances(mod);"
   ]
  },
  {
   "cell_type": "code",
   "execution_count": 7,
   "id": "432dbc94-7b3b-4b19-a00e-4edd9e7139ca",
   "metadata": {},
   "outputs": [
    {
     "data": {
      "text/plain": [
       "DCC{1, 1, GARCH{1, 1}} specification.\n",
       "\n",
       "───────────────────────\n",
       "               β₁    α₁\n",
       "───────────────────────\n",
       "Parameters:  0.96  0.02\n",
       "───────────────────────\n"
      ]
     },
     "execution_count": 7,
     "metadata": {},
     "output_type": "execute_result"
    }
   ],
   "source": [
    "univariate_spec = UnivariateARCHModel\n",
    "simulation_spec = DCC{1, 1}(R, [.96, .02], [GARCH{1, 1}([10e-5, .9, .05]) for _ in 1:p])"
   ]
  },
  {
   "cell_type": "code",
   "execution_count": 9,
   "id": "8437e701-e10a-4ca1-89f8-fe8501e3b8f1",
   "metadata": {
    "scrolled": true
   },
   "outputs": [
    {
     "name": "stderr",
     "output_type": "stream",
     "text": [
      "\u001b[32mProgress: 100%|█████████████████████████████████████████| Time: 1:31:43\u001b[39m\n"
     ]
    }
   ],
   "source": [
    "linear_loss_sim = [0.0 for i in 1:100]\n",
    "\n",
    "@showprogress for i in 1:100\n",
    "    sim_data = simulate(simulation_spec, 1000; warmup = 100).data\n",
    "    est = fit(DCC{1,1}, sim_data, method = :linear)\n",
    "    est_covs = covariances(est)\n",
    "    linear_loss_sim[i] = sum([loss(real, est) for (real,est) in zip(real_covs, est_covs)])\n",
    "end\n",
    "\n",
    "npzwrite(\"linear_loss_sim.npy\", linear_loss_sim)"
   ]
  },
  {
   "cell_type": "code",
   "execution_count": 10,
   "id": "f4897eff-2961-497e-a575-f56cc67acf38",
   "metadata": {},
   "outputs": [
    {
     "name": "stderr",
     "output_type": "stream",
     "text": [
      "\u001b[32mProgress: 100%|█████████████████████████████████████████| Time: 1:25:18\u001b[39m\n"
     ]
    }
   ],
   "source": [
    "analytical_loss_sim = [0.0 for i in 1:100]\n",
    "\n",
    "@showprogress for i in 1:100\n",
    "    sim_data = simulate(simulation_spec, 1000; warmup = 100).data\n",
    "    est = fit(DCC{1,1}, sim_data, method = :largescale)\n",
    "    est_covs = covariances(est)\n",
    "    analytical_loss_sim[i] = sum([loss(real, est) for (real,est) in zip(real_covs, est_covs)])\n",
    "end\n",
    "\n",
    "npzwrite(\"anal_loss_sim.npy\", analytical_loss_sim)"
   ]
  },
  {
   "cell_type": "code",
   "execution_count": 8,
   "id": "5e26bdaf-ebc1-45c8-bd5e-c10d50002642",
   "metadata": {},
   "outputs": [
    {
     "name": "stderr",
     "output_type": "stream",
     "text": [
      "\u001b[32mProgress: 100%|█████████████████████████████████████████| Time: 1:28:13\u001b[39m\n"
     ]
    }
   ],
   "source": [
    "sample_cov_sim = [0.0 for i in 1:100]\n",
    "\n",
    "@showprogress for i in 1:100\n",
    "    sim_data = simulate(simulation_spec, 1000; warmup = 100).data\n",
    "    est = fit(DCC{1,1}, sim_data, method = :twostep)\n",
    "    est_covs = covariances(est)\n",
    "    sample_cov_sim[i] = sum([loss(real, est) for (real,est) in zip(real_covs, est_covs)])\n",
    "end\n",
    "\n",
    "npzwrite(\"cov_loss_sim.npy\", sample_cov_sim)"
   ]
  },
  {
   "cell_type": "code",
   "execution_count": 9,
   "id": "34d943c8-4f6b-4122-a6fd-631f64ceec78",
   "metadata": {},
   "outputs": [
    {
     "data": {
      "text/plain": [
       "100-element Vector{Float64}:\n",
       " 1.1708601768826654\n",
       " 1.1963586565163211\n",
       " 1.1688816137065576\n",
       " 1.1846898176522704\n",
       " 1.1833029623335218\n",
       " 1.1673979996535566\n",
       " 1.168789885522228\n",
       " 1.1637807202852959\n",
       " 1.1809467546010677\n",
       " 1.1929418530396965\n",
       " 1.168367639467903\n",
       " 1.1990337292680886\n",
       " 1.1605954284718765\n",
       " ⋮\n",
       " 1.1592932057010497\n",
       " 1.1721186210213346\n",
       " 1.1813859046967292\n",
       " 1.1584371223540997\n",
       " 1.195394815487476\n",
       " 1.1973216555930615\n",
       " 1.1797886822391912\n",
       " 1.1725401117757583\n",
       " 1.1948504699441118\n",
       " 1.1906494685953655\n",
       " 1.1733779469310943\n",
       " 1.1840395579933563"
      ]
     },
     "execution_count": 9,
     "metadata": {},
     "output_type": "execute_result"
    }
   ],
   "source": [
    "sample_cov_sim"
   ]
  },
  {
   "cell_type": "code",
   "execution_count": null,
   "id": "849521a2-dee5-463f-9961-33c527b31dd2",
   "metadata": {},
   "outputs": [],
   "source": []
  }
 ],
 "metadata": {
  "kernelspec": {
   "display_name": "Julia 1.10.4",
   "language": "julia",
   "name": "julia-1.10"
  },
  "language_info": {
   "file_extension": ".jl",
   "mimetype": "application/julia",
   "name": "julia",
   "version": "1.10.4"
  }
 },
 "nbformat": 4,
 "nbformat_minor": 5
}
